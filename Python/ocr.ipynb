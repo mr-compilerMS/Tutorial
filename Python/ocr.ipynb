{
 "metadata": {
  "language_info": {
   "codemirror_mode": {
    "name": "ipython",
    "version": 3
   },
   "file_extension": ".py",
   "mimetype": "text/x-python",
   "name": "python",
   "nbconvert_exporter": "python",
   "pygments_lexer": "ipython3",
   "version": "3.6.5-final"
  },
  "orig_nbformat": 2,
  "kernelspec": {
   "name": "python3",
   "display_name": "Python 3"
  }
 },
 "nbformat": 4,
 "nbformat_minor": 2,
 "cells": [
  {
   "cell_type": "code",
   "execution_count": 23,
   "metadata": {},
   "outputs": [],
   "source": [
    "from PIL import Image\n",
    "import pytesseract\n",
    "from pdf2image import convert_from_path\n",
    "pytesseract.pytesseract.tesseract_cmd=r\"C:\\Program Files\\Tesseract-OCR\\tesseract.exe\"\n",
    "from docx import Document\n",
    "# import pyttsx3\n",
    "# engine = pyttsx3.init()"
   ]
  },
  {
   "cell_type": "code",
   "execution_count": 24,
   "metadata": {},
   "outputs": [],
   "source": [
    "def conv(file):\n",
    "    images=convert_from_path(r\"M:\\Github\\Tutorial\\Python\\pdf\\\\\"+file)\n",
    "    doc=Document()\n",
    "    for i in images:\n",
    "        text=pytesseract.image_to_string(i)\n",
    "        text = \"\".join([s for s in text.splitlines(True) if s.strip(\"\\r\\n\")])\n",
    "        try:\n",
    "            doc.add_paragraph(text=text)\n",
    "        except:\n",
    "            continue\n",
    "    doc.save(r\"docx\\{}.docx\".format(file))"
   ]
  },
  {
   "cell_type": "code",
   "execution_count": 25,
   "metadata": {},
   "outputs": [],
   "source": [
    "for root, dirs, files in os.walk(r'M:\\Github\\Tutorial\\Python\\pdf'):\n",
    "    for file in files:\n",
    "        if file.endswith('.pdf'):\n",
    "            conv(file)\n"
   ]
  },
  {
   "cell_type": "code",
   "execution_count": 26,
   "metadata": {},
   "outputs": [],
   "source": [
    "# voices = engine.getProperty('voices')\n",
    "# engine.setProperty(\"voice\",voices[1].id)\n",
    "# engine.setProperty(\"rate\",125)\n",
    "# engine.say(pytesseract.image_to_string(images[1]))\n",
    "# engine.runAndWait()"
   ]
  }
 ]
}